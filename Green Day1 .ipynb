{
 "cells": [
  {
   "cell_type": "code",
   "execution_count": 4,
   "id": "3a52285f-d430-4b96-aa38-1776eb290186",
   "metadata": {},
   "outputs": [
    {
     "name": "stdout",
     "output_type": "stream",
     "text": [
      "City name : City A\n"
     ]
    }
   ],
   "source": [
    "# Create a string variable\n",
    "city_name = \"City A\"\n",
    "\n",
    "# Print the values of the string variable\n",
    "print(f\"City name : {city_name}\")"
   ]
  },
  {
   "cell_type": "code",
   "execution_count": 6,
   "id": "c1709c5f-60a3-440a-a106-adde8cfcbd6b",
   "metadata": {},
   "outputs": [
    {
     "name": "stdout",
     "output_type": "stream",
     "text": [
      " Temperature :25 C\n"
     ]
    }
   ],
   "source": [
    "# Create an integer variable for temperature\n",
    "temp = 25\n",
    "\n",
    "#Print the value ao the integer variable\n",
    "print(f\" Temperature :{temp} C\")"
   ]
  },
  {
   "cell_type": "code",
   "execution_count": 8,
   "id": "aa36293d-625d-4483-b62c-0d574b0c1dcc",
   "metadata": {},
   "outputs": [
    {
     "name": "stdout",
     "output_type": "stream",
     "text": [
      "Carbon Footprint : 500.75 kg CO2\n"
     ]
    }
   ],
   "source": [
    "#Create a float variable for Carbon Footprint\n",
    "carbon_footprint = 500.75 #kg in CO2\n",
    "\n",
    "# Print the value of the float variable\n",
    "print(f\"Carbon Footprint : {carbon_footprint} kg CO2\")\n"
   ]
  },
  {
   "cell_type": "code",
   "execution_count": null,
   "id": "5c683992-590d-436d-be80-522240e31187",
   "metadata": {},
   "outputs": [],
   "source": [
    "# create a boolean variable to indicate if the city is sustainable\n",
    "is_sustainable = carbon_footprint < 400   #this will be false because 500.75>400\n",
    "\n",
    "# Print the value of the boolean variable\n",
    "print(f\" Is the city sustainable?"
   ]
  },
  {
   "cell_type": "code",
   "execution_count": 11,
   "id": "631af5b3-a0a0-49a8-b911-fb1f10769416",
   "metadata": {},
   "outputs": [
    {
     "name": "stdin",
     "output_type": "stream",
     "text": [
      " 3\n",
      " 6\n"
     ]
    },
    {
     "data": {
      "text/plain": [
       "True"
      ]
     },
     "execution_count": 11,
     "metadata": {},
     "output_type": "execute_result"
    }
   ],
   "source": [
    "a = input();\n",
    "b = input();\n",
    "\n",
    "type(a) is type(b)\n",
    "\n"
   ]
  },
  {
   "cell_type": "code",
   "execution_count": 27,
   "id": "49e7dc88-4193-4b0d-8f3f-9050f3ac6471",
   "metadata": {},
   "outputs": [
    {
     "name": "stdin",
     "output_type": "stream",
     "text": [
      "Enter first number:  2\n",
      "Enter second number:  5\n"
     ]
    },
    {
     "name": "stdout",
     "output_type": "stream",
     "text": [
      "Choose an operation:\n",
      "1. Addition\n",
      "2. Subtraction\n",
      "3. Multiplication\n",
      "4. Division\n"
     ]
    },
    {
     "name": "stdin",
     "output_type": "stream",
     "text": [
      "Enter your choice (1/2/3/4):  3\n"
     ]
    },
    {
     "name": "stdout",
     "output_type": "stream",
     "text": [
      "Result of Multiplication: 10\n"
     ]
    }
   ],
   "source": [
    "a = int(input(\"Enter first number: \"))\n",
    "b = int(input(\"Enter second number: \"))\n",
    "\n",
    "print(\"Choose an operation:\")\n",
    "print(\"1. Addition\")\n",
    "print(\"2. Subtraction\")\n",
    "print(\"3. Multiplication\")\n",
    "print(\"4. Division\")\n",
    "\n",
    "choice = int(input(\"Enter your choice (1/2/3/4): \"))\n",
    "\n",
    "if choice == 1:\n",
    "    result = a + b\n",
    "    print(\"Result of Addition:\", result)\n",
    "elif choice == 2:\n",
    "    result = a - b\n",
    "    print(\"Result of Subtraction:\", result)\n",
    "elif choice == 3:\n",
    "    result = a * b\n",
    "    print(\"Result of Multiplication:\", result)\n",
    "elif choice == 4:\n",
    "    if b != 0:\n",
    "        result = a / b\n",
    "        print(\"Result of Division:\", result)\n",
    "    else:\n",
    "        print(\"Error: Division by zero is not allowed.\")\n",
    "else:\n",
    "    print(\"Invalid choice! Please select a valid operation.\")\n"
   ]
  },
  {
   "cell_type": "code",
   "execution_count": 21,
   "id": "1b7b3325-c1c1-45da-b636-e8e9533a775d",
   "metadata": {},
   "outputs": [
    {
     "name": "stdout",
     "output_type": "stream",
     "text": [
      "{'city': 'City A', 'temperature': 25, 'carbon_footprint': 500}\n",
      "{'city': 'City B', 'temperature': 30, 'carbon_footprint': 350}\n",
      "{'city': 'City C', 'temperature': 22, 'carbon_footprint': 600}\n",
      "{'city': 'City E', 'temperature': 28, 'carbon_footprint': 450}\n",
      "Average Temperature: 28\n",
      "Average Carbon Footprint: 450\n"
     ]
    }
   ],
   "source": [
    "climate_data = [\n",
    "    {\"city\": \"City A\", \"temperature\": 25, \"carbon_footprint\": 500},\n",
    "    {\"city\": \"City B\", \"temperature\": 30, \"carbon_footprint\": 350},\n",
    "    {\"city\": \"City C\", \"temperature\": 22, \"carbon_footprint\": 600},\n",
    "    {\"city\": \"City D\", \"temperature\": 15, \"carbon_footprint\": 200},\n",
    "    {\"city\": \"City E\", \"temperature\": 28, \"carbon_footprint\": 450},\n",
    "]\n",
    "\n",
    "for city_data in climate_data:\n",
    "    if city_data[\"temperature\"] > 20:\n",
    "        print(city_data)\n",
    "\n",
    "\n"
   ]
  },
  {
   "cell_type": "code",
   "execution_count": null,
   "id": "26c63a31-af95-41a5-9645-747356da18e7",
   "metadata": {},
   "outputs": [],
   "source": [
    "sum_tem = 0;\n",
    "sum_cf = 0;\n",
    "i =0\n",
    "for avg_data in climate_data:\n",
    "    sum_tem += city_data[\"temperature\"]\n",
    "    sum_cf +=  city_data[\"carbon_footprint\"]\n",
    "    i = i +1;\n",
    "avg_tem = sum_tem//i\n",
    "avg_cf = sum_cf//i\n",
    "\n",
    "print(\"Average Temperature:\", avg_tem)\n",
    "print(\"Average Carbon Footprint:\", avg_cf)"
   ]
  },
  {
   "cell_type": "code",
   "execution_count": 26,
   "id": "314564e4-0648-4d67-a736-92979554a8bc",
   "metadata": {},
   "outputs": [
    {
     "name": "stdout",
     "output_type": "stream",
     "text": [
      "City with Maximum Carbon Footprint: City C\n",
      "Maximum Carbon Footprint: 600\n"
     ]
    }
   ],
   "source": [
    "max_cf = 0\n",
    "max_city = \"\"\n",
    "for city_data in climate_data:\n",
    "    if city_data[\"carbon_footprint\"] > max_cf:\n",
    "        max_cf = city_data[\"carbon_footprint\"]\n",
    "        max_city = city_data[\"city\"]\n",
    "\n",
    "print(\"City with Maximum Carbon Footprint:\", max_city)\n",
    "print(\"Maximum Carbon Footprint:\", max_cf)"
   ]
  },
  {
   "cell_type": "code",
   "execution_count": 32,
   "id": "527961ba-7851-49bd-8c4d-b19dce4f2c70",
   "metadata": {},
   "outputs": [],
   "source": [
    "import pandas as pd"
   ]
  },
  {
   "cell_type": "code",
   "execution_count": 64,
   "id": "69c2cc15-202b-4586-a326-0c5b6c0b2c99",
   "metadata": {},
   "outputs": [
    {
     "ename": "SyntaxError",
     "evalue": "invalid non-printable character U+00A0 (1026802805.py, line 7)",
     "output_type": "error",
     "traceback": [
      "\u001b[1;36m  Cell \u001b[1;32mIn[64], line 7\u001b[1;36m\u001b[0m\n\u001b[1;33m    \"Completion Year\": [2023, 2024, 2022, 2025, 2023]\u001b[0m\n\u001b[1;37m                                         ^\u001b[0m\n\u001b[1;31mSyntaxError\u001b[0m\u001b[1;31m:\u001b[0m invalid non-printable character U+00A0\n"
     ]
    }
   ],
   "source": [
    "data123 = {\n",
    "    \"Project\": [\"Solar Farm A\", \"Wind Turbine X\", \"Hydropower Y\", \"Solar Roof Z\", \"Geothermal Plant P\"],\n",
    "    \"Technology\": [\"Solar\", \"Wind\", \"Hydropower\", \"Solar\", \"Geothermal\"],\n",
    "    \"Capacity (MW)\": [150, 300, 200, 50, 100],  # Megawatts\n",
    "    \"Cost (Million $)\": [200, 400, 350, 100, 250],  # Project cost\n",
    "    \"Location\": [\"California\", \"Texas\", \"Washington\", \"Nevada\", \"Idaho\"],\n",
    "    \"Completion Year\": [2023, 2024, 2022, 2025, 2023]\n",
    "}\n",
    "renewable_seiries = pd.Series(renewable_sources)\n",
    "print(renewable_seiries)"
   ]
  },
  {
   "cell_type": "code",
   "execution_count": 34,
   "id": "70280cff-7c17-4137-81aa-221293af7333",
   "metadata": {},
   "outputs": [
    {
     "ename": "NameError",
     "evalue": "name 'data' is not defined",
     "output_type": "error",
     "traceback": [
      "\u001b[1;31m---------------------------------------------------------------------------\u001b[0m",
      "\u001b[1;31mNameError\u001b[0m                                 Traceback (most recent call last)",
      "Cell \u001b[1;32mIn[34], line 1\u001b[0m\n\u001b[1;32m----> 1\u001b[0m df \u001b[38;5;241m=\u001b[39m pd\u001b[38;5;241m.\u001b[39mDataFrame(data)\n\u001b[0;32m      2\u001b[0m df\u001b[38;5;241m.\u001b[39mhead()\n",
      "\u001b[1;31mNameError\u001b[0m: name 'data' is not defined"
     ]
    }
   ],
   "source": [
    "df = pd.DataFrame(data123)\n",
    "df.head()"
   ]
  },
  {
   "cell_type": "code",
   "execution_count": null,
   "id": "8fc2a55d-ab89-4f8a-8d21-740d62027f64",
   "metadata": {},
   "outputs": [],
   "source": []
  },
  {
   "cell_type": "code",
   "execution_count": null,
   "id": "b1bf1d1b-1de4-4563-b4c4-76b50c06df6c",
   "metadata": {},
   "outputs": [],
   "source": []
  },
  {
   "cell_type": "code",
   "execution_count": null,
   "id": "6b15a81c-070d-43f8-a7b3-3e8deaf73bcc",
   "metadata": {},
   "outputs": [],
   "source": []
  },
  {
   "cell_type": "code",
   "execution_count": null,
   "id": "b766c1eb-8ac7-4785-b313-99c7488f9935",
   "metadata": {},
   "outputs": [],
   "source": []
  },
  {
   "cell_type": "code",
   "execution_count": null,
   "id": "f03189f0-3725-479c-a266-510c30e83cd3",
   "metadata": {},
   "outputs": [],
   "source": [
    "grouped data "
   ]
  },
  {
   "cell_type": "code",
   "execution_count": null,
   "id": "1da96bd2-b2c7-4c32-abd8-2a0583f1816f",
   "metadata": {},
   "outputs": [],
   "source": []
  },
  {
   "cell_type": "code",
   "execution_count": null,
   "id": "ab3bc26e-8e9e-4e49-afde-b1f5ee92e498",
   "metadata": {},
   "outputs": [],
   "source": []
  },
  {
   "cell_type": "code",
   "execution_count": null,
   "id": "d21ea088-698a-4721-8f20-2222032c0987",
   "metadata": {},
   "outputs": [],
   "source": []
  },
  {
   "cell_type": "code",
   "execution_count": null,
   "id": "87ec6eb0-701f-4ba7-89ad-0c3c83775983",
   "metadata": {},
   "outputs": [],
   "source": []
  },
  {
   "cell_type": "code",
   "execution_count": null,
   "id": "804c95b6-944c-4d3f-8418-b39e2855674d",
   "metadata": {},
   "outputs": [],
   "source": []
  },
  {
   "cell_type": "code",
   "execution_count": null,
   "id": "165f5da6-2abb-4106-863e-6b267353b258",
   "metadata": {},
   "outputs": [],
   "source": [
    "array2 = np .range (5, 15, 2)\n"
   ]
  },
  {
   "cell_type": "code",
   "execution_count": null,
   "id": "b72f6bb8-1d9a-40f3-b68b-bb5516af18f5",
   "metadata": {},
   "outputs": [],
   "source": []
  }
 ],
 "metadata": {
  "kernelspec": {
   "display_name": "Python 3 (ipykernel)",
   "language": "python",
   "name": "python3"
  },
  "language_info": {
   "codemirror_mode": {
    "name": "ipython",
    "version": 3
   },
   "file_extension": ".py",
   "mimetype": "text/x-python",
   "name": "python",
   "nbconvert_exporter": "python",
   "pygments_lexer": "ipython3",
   "version": "3.12.4"
  }
 },
 "nbformat": 4,
 "nbformat_minor": 5
}
