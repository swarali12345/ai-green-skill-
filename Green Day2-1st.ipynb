{
 "cells": [
  {
   "cell_type": "code",
   "execution_count": 1,
   "id": "44c4d38e-3c8a-4a6b-a62f-e047033bb793",
   "metadata": {},
   "outputs": [
    {
     "name": "stdout",
     "output_type": "stream",
     "text": [
      "True\n"
     ]
    }
   ],
   "source": [
    "leap_year = lambda year : (year % 4 == 0 and year % 100 != 0 )or (year % 400 == 0 )\n",
    "year = 2024 \n",
    "print(leap_year(year))"
   ]
  },
  {
   "cell_type": "code",
   "execution_count": 2,
   "id": "094f85de-9c82-4174-aa84-9203baa92c21",
   "metadata": {},
   "outputs": [],
   "source": [
    "# data \n",
    "data = {\n",
    "    \"Project\": [\"Solar Farm A\", \"Wind Turbine X\", \"Hydropower Y\", \"Solar Roof Z\", \"Geothermal Plant P\"],\n",
    "    \"Technology\": [\"Solar\", \"Wind\", \"Hydropower\", \"Solar\", \"Geothermal\"],\n",
    "    \"Capacity (MW)\": [150, 300, 200, 50, 100],  # Megawatts\n",
    "    \"Cost (Million $)\": [200, 400, 350, 100, 250],  # Project cost\n",
    "    \"Location\": [\"California\", \"Texas\", \"Washington\", \"Nevada\", \"Idaho\"],\n",
    "    \"Completion Year\": [2023, 2024, 2022, 2025, 2023]\n",
    "}"
   ]
  },
  {
   "cell_type": "code",
   "execution_count": 4,
   "id": "0b1124a1-c3c0-45f6-94aa-0a29d4361cc8",
   "metadata": {},
   "outputs": [],
   "source": [
    "import pandas as pd \n",
    "renuable_resources=[\"Solar\",\"Wind\",\"Hydropower\",\"Geothermal\",\"Biomass\" ]\n"
   ]
  },
  {
   "cell_type": "code",
   "execution_count": 5,
   "id": "26e57fab-ea1d-4675-9020-408b1929fa0d",
   "metadata": {},
   "outputs": [
    {
     "name": "stdout",
     "output_type": "stream",
     "text": [
      "Renewable Resources : \n",
      "0         Solar\n",
      "1          Wind\n",
      "2    Hydropower\n",
      "3    Geothermal\n",
      "4       Biomass\n",
      "dtype: object\n"
     ]
    }
   ],
   "source": [
    "renuable_series=pd.Series(renuable_resources)\n",
    "print(\"Renewable Resources : \")\n",
    "print(renuable_series)"
   ]
  },
  {
   "cell_type": "code",
   "execution_count": 6,
   "id": "53a08afd-8c97-46a6-ae92-ca38d10801f2",
   "metadata": {},
   "outputs": [
    {
     "data": {
      "text/html": [
       "<div>\n",
       "<style scoped>\n",
       "    .dataframe tbody tr th:only-of-type {\n",
       "        vertical-align: middle;\n",
       "    }\n",
       "\n",
       "    .dataframe tbody tr th {\n",
       "        vertical-align: top;\n",
       "    }\n",
       "\n",
       "    .dataframe thead th {\n",
       "        text-align: right;\n",
       "    }\n",
       "</style>\n",
       "<table border=\"1\" class=\"dataframe\">\n",
       "  <thead>\n",
       "    <tr style=\"text-align: right;\">\n",
       "      <th></th>\n",
       "      <th>Project</th>\n",
       "      <th>Technology</th>\n",
       "      <th>Capacity (MW)</th>\n",
       "      <th>Cost (Million $)</th>\n",
       "      <th>Location</th>\n",
       "      <th>Completion Year</th>\n",
       "    </tr>\n",
       "  </thead>\n",
       "  <tbody>\n",
       "    <tr>\n",
       "      <th>0</th>\n",
       "      <td>Solar Farm A</td>\n",
       "      <td>Solar</td>\n",
       "      <td>150</td>\n",
       "      <td>200</td>\n",
       "      <td>California</td>\n",
       "      <td>2023</td>\n",
       "    </tr>\n",
       "    <tr>\n",
       "      <th>1</th>\n",
       "      <td>Wind Turbine X</td>\n",
       "      <td>Wind</td>\n",
       "      <td>300</td>\n",
       "      <td>400</td>\n",
       "      <td>Texas</td>\n",
       "      <td>2024</td>\n",
       "    </tr>\n",
       "    <tr>\n",
       "      <th>2</th>\n",
       "      <td>Hydropower Y</td>\n",
       "      <td>Hydropower</td>\n",
       "      <td>200</td>\n",
       "      <td>350</td>\n",
       "      <td>Washington</td>\n",
       "      <td>2022</td>\n",
       "    </tr>\n",
       "    <tr>\n",
       "      <th>3</th>\n",
       "      <td>Solar Roof Z</td>\n",
       "      <td>Solar</td>\n",
       "      <td>50</td>\n",
       "      <td>100</td>\n",
       "      <td>Nevada</td>\n",
       "      <td>2025</td>\n",
       "    </tr>\n",
       "    <tr>\n",
       "      <th>4</th>\n",
       "      <td>Geothermal Plant P</td>\n",
       "      <td>Geothermal</td>\n",
       "      <td>100</td>\n",
       "      <td>250</td>\n",
       "      <td>Idaho</td>\n",
       "      <td>2023</td>\n",
       "    </tr>\n",
       "  </tbody>\n",
       "</table>\n",
       "</div>"
      ],
      "text/plain": [
       "              Project  Technology  Capacity (MW)  Cost (Million $)  \\\n",
       "0        Solar Farm A       Solar            150               200   \n",
       "1      Wind Turbine X        Wind            300               400   \n",
       "2        Hydropower Y  Hydropower            200               350   \n",
       "3        Solar Roof Z       Solar             50               100   \n",
       "4  Geothermal Plant P  Geothermal            100               250   \n",
       "\n",
       "     Location  Completion Year  \n",
       "0  California             2023  \n",
       "1       Texas             2024  \n",
       "2  Washington             2022  \n",
       "3      Nevada             2025  \n",
       "4       Idaho             2023  "
      ]
     },
     "execution_count": 6,
     "metadata": {},
     "output_type": "execute_result"
    }
   ],
   "source": [
    "projects_df=pd.DataFrame(data)\n",
    "projects_df.head()"
   ]
  },
  {
   "cell_type": "code",
   "execution_count": 7,
   "id": "3a934f3c-88e1-454a-866a-58df9647bb59",
   "metadata": {},
   "outputs": [
    {
     "data": {
      "text/plain": [
       "(5, 6)"
      ]
     },
     "execution_count": 7,
     "metadata": {},
     "output_type": "execute_result"
    }
   ],
   "source": [
    "projects_df.shape"
   ]
  },
  {
   "cell_type": "code",
   "execution_count": 8,
   "id": "65b7458c-fbda-4406-ba0a-f4503bfc0461",
   "metadata": {},
   "outputs": [
    {
     "data": {
      "text/html": [
       "<div>\n",
       "<style scoped>\n",
       "    .dataframe tbody tr th:only-of-type {\n",
       "        vertical-align: middle;\n",
       "    }\n",
       "\n",
       "    .dataframe tbody tr th {\n",
       "        vertical-align: top;\n",
       "    }\n",
       "\n",
       "    .dataframe thead th {\n",
       "        text-align: right;\n",
       "    }\n",
       "</style>\n",
       "<table border=\"1\" class=\"dataframe\">\n",
       "  <thead>\n",
       "    <tr style=\"text-align: right;\">\n",
       "      <th></th>\n",
       "      <th>Project</th>\n",
       "      <th>Technology</th>\n",
       "      <th>Capacity (MW)</th>\n",
       "      <th>Cost (Million $)</th>\n",
       "      <th>Location</th>\n",
       "      <th>Completion Year</th>\n",
       "    </tr>\n",
       "  </thead>\n",
       "  <tbody>\n",
       "    <tr>\n",
       "      <th>2</th>\n",
       "      <td>Hydropower Y</td>\n",
       "      <td>Hydropower</td>\n",
       "      <td>200</td>\n",
       "      <td>350</td>\n",
       "      <td>Washington</td>\n",
       "      <td>2022</td>\n",
       "    </tr>\n",
       "    <tr>\n",
       "      <th>3</th>\n",
       "      <td>Solar Roof Z</td>\n",
       "      <td>Solar</td>\n",
       "      <td>50</td>\n",
       "      <td>100</td>\n",
       "      <td>Nevada</td>\n",
       "      <td>2025</td>\n",
       "    </tr>\n",
       "  </tbody>\n",
       "</table>\n",
       "</div>"
      ],
      "text/plain": [
       "        Project  Technology  Capacity (MW)  Cost (Million $)    Location  \\\n",
       "2  Hydropower Y  Hydropower            200               350  Washington   \n",
       "3  Solar Roof Z       Solar             50               100      Nevada   \n",
       "\n",
       "   Completion Year  \n",
       "2             2022  \n",
       "3             2025  "
      ]
     },
     "execution_count": 8,
     "metadata": {},
     "output_type": "execute_result"
    }
   ],
   "source": [
    "projects_df[2:4]"
   ]
  },
  {
   "cell_type": "code",
   "execution_count": 9,
   "id": "d961bd92-e064-4b18-ab46-24dc2ef9379c",
   "metadata": {},
   "outputs": [
    {
     "data": {
      "text/html": [
       "<div>\n",
       "<style scoped>\n",
       "    .dataframe tbody tr th:only-of-type {\n",
       "        vertical-align: middle;\n",
       "    }\n",
       "\n",
       "    .dataframe tbody tr th {\n",
       "        vertical-align: top;\n",
       "    }\n",
       "\n",
       "    .dataframe thead th {\n",
       "        text-align: right;\n",
       "    }\n",
       "</style>\n",
       "<table border=\"1\" class=\"dataframe\">\n",
       "  <thead>\n",
       "    <tr style=\"text-align: right;\">\n",
       "      <th></th>\n",
       "      <th>Project</th>\n",
       "      <th>Technology</th>\n",
       "      <th>Capacity (MW)</th>\n",
       "      <th>Cost (Million $)</th>\n",
       "      <th>Location</th>\n",
       "      <th>Completion Year</th>\n",
       "    </tr>\n",
       "  </thead>\n",
       "  <tbody>\n",
       "    <tr>\n",
       "      <th>1</th>\n",
       "      <td>Wind Turbine X</td>\n",
       "      <td>Wind</td>\n",
       "      <td>300</td>\n",
       "      <td>400</td>\n",
       "      <td>Texas</td>\n",
       "      <td>2024</td>\n",
       "    </tr>\n",
       "    <tr>\n",
       "      <th>2</th>\n",
       "      <td>Hydropower Y</td>\n",
       "      <td>Hydropower</td>\n",
       "      <td>200</td>\n",
       "      <td>350</td>\n",
       "      <td>Washington</td>\n",
       "      <td>2022</td>\n",
       "    </tr>\n",
       "  </tbody>\n",
       "</table>\n",
       "</div>"
      ],
      "text/plain": [
       "          Project  Technology  Capacity (MW)  Cost (Million $)    Location  \\\n",
       "1  Wind Turbine X        Wind            300               400       Texas   \n",
       "2    Hydropower Y  Hydropower            200               350  Washington   \n",
       "\n",
       "   Completion Year  \n",
       "1             2024  \n",
       "2             2022  "
      ]
     },
     "execution_count": 9,
     "metadata": {},
     "output_type": "execute_result"
    }
   ],
   "source": [
    "projects_df.iloc[[1,2]]"
   ]
  },
  {
   "cell_type": "code",
   "execution_count": 10,
   "id": "701a845f-a734-49cd-8577-6ea74cee2cef",
   "metadata": {},
   "outputs": [
    {
     "name": "stdout",
     "output_type": "stream",
     "text": [
      "<class 'pandas.core.frame.DataFrame'>\n",
      "RangeIndex: 5 entries, 0 to 4\n",
      "Data columns (total 6 columns):\n",
      " #   Column            Non-Null Count  Dtype \n",
      "---  ------            --------------  ----- \n",
      " 0   Project           5 non-null      object\n",
      " 1   Technology        5 non-null      object\n",
      " 2   Capacity (MW)     5 non-null      int64 \n",
      " 3   Cost (Million $)  5 non-null      int64 \n",
      " 4   Location          5 non-null      object\n",
      " 5   Completion Year   5 non-null      int64 \n",
      "dtypes: int64(3), object(3)\n",
      "memory usage: 372.0+ bytes\n"
     ]
    }
   ],
   "source": [
    "projects_df.info()"
   ]
  },
  {
   "cell_type": "code",
   "execution_count": 11,
   "id": "849f6954-da8b-4d29-9735-6ba50e48494e",
   "metadata": {},
   "outputs": [
    {
     "data": {
      "text/html": [
       "<div>\n",
       "<style scoped>\n",
       "    .dataframe tbody tr th:only-of-type {\n",
       "        vertical-align: middle;\n",
       "    }\n",
       "\n",
       "    .dataframe tbody tr th {\n",
       "        vertical-align: top;\n",
       "    }\n",
       "\n",
       "    .dataframe thead th {\n",
       "        text-align: right;\n",
       "    }\n",
       "</style>\n",
       "<table border=\"1\" class=\"dataframe\">\n",
       "  <thead>\n",
       "    <tr style=\"text-align: right;\">\n",
       "      <th></th>\n",
       "      <th>Capacity (MW)</th>\n",
       "      <th>Cost (Million $)</th>\n",
       "      <th>Completion Year</th>\n",
       "    </tr>\n",
       "  </thead>\n",
       "  <tbody>\n",
       "    <tr>\n",
       "      <th>count</th>\n",
       "      <td>5.00000</td>\n",
       "      <td>5.000000</td>\n",
       "      <td>5.000000</td>\n",
       "    </tr>\n",
       "    <tr>\n",
       "      <th>mean</th>\n",
       "      <td>160.00000</td>\n",
       "      <td>260.000000</td>\n",
       "      <td>2023.400000</td>\n",
       "    </tr>\n",
       "    <tr>\n",
       "      <th>std</th>\n",
       "      <td>96.17692</td>\n",
       "      <td>119.373364</td>\n",
       "      <td>1.140175</td>\n",
       "    </tr>\n",
       "    <tr>\n",
       "      <th>min</th>\n",
       "      <td>50.00000</td>\n",
       "      <td>100.000000</td>\n",
       "      <td>2022.000000</td>\n",
       "    </tr>\n",
       "    <tr>\n",
       "      <th>25%</th>\n",
       "      <td>100.00000</td>\n",
       "      <td>200.000000</td>\n",
       "      <td>2023.000000</td>\n",
       "    </tr>\n",
       "    <tr>\n",
       "      <th>50%</th>\n",
       "      <td>150.00000</td>\n",
       "      <td>250.000000</td>\n",
       "      <td>2023.000000</td>\n",
       "    </tr>\n",
       "    <tr>\n",
       "      <th>75%</th>\n",
       "      <td>200.00000</td>\n",
       "      <td>350.000000</td>\n",
       "      <td>2024.000000</td>\n",
       "    </tr>\n",
       "    <tr>\n",
       "      <th>max</th>\n",
       "      <td>300.00000</td>\n",
       "      <td>400.000000</td>\n",
       "      <td>2025.000000</td>\n",
       "    </tr>\n",
       "  </tbody>\n",
       "</table>\n",
       "</div>"
      ],
      "text/plain": [
       "       Capacity (MW)  Cost (Million $)  Completion Year\n",
       "count        5.00000          5.000000         5.000000\n",
       "mean       160.00000        260.000000      2023.400000\n",
       "std         96.17692        119.373364         1.140175\n",
       "min         50.00000        100.000000      2022.000000\n",
       "25%        100.00000        200.000000      2023.000000\n",
       "50%        150.00000        250.000000      2023.000000\n",
       "75%        200.00000        350.000000      2024.000000\n",
       "max        300.00000        400.000000      2025.000000"
      ]
     },
     "execution_count": 11,
     "metadata": {},
     "output_type": "execute_result"
    }
   ],
   "source": [
    "projects_df.describe()"
   ]
  },
  {
   "cell_type": "code",
   "execution_count": 12,
   "id": "22ef574b-cb33-4b41-924d-c4d80e2a7bf5",
   "metadata": {},
   "outputs": [
    {
     "name": "stdout",
     "output_type": "stream",
     "text": [
      "160.0\n"
     ]
    }
   ],
   "source": [
    "mean1=projects_df[\"Capacity (MW)\"].mean()\n",
    "print(mean1)"
   ]
  },
  {
   "cell_type": "code",
   "execution_count": 13,
   "id": "5c20a0ce-ba42-4b04-9c62-a599037d6ec4",
   "metadata": {},
   "outputs": [
    {
     "name": "stdout",
     "output_type": "stream",
     "text": [
      "150\n",
      "300\n",
      "200\n",
      "50\n",
      "100\n",
      "7400.0\n",
      "800\n"
     ]
    }
   ],
   "source": [
    "sum1=0\n",
    "sum2=0\n",
    "for i in projects_df[\"Capacity (MW)\"]:\n",
    "    print(i)\n",
    "    sum2=sum2+i\n",
    "    sum1=sum1 + ((mean1 - i )**2)\n",
    "# print(len(projects_df[\"Capacity (MW)\"]))\n",
    "var=sum1/len(projects_df[\"Capacity (MW)\"])\n",
    "print(var)\n",
    "print(sum2)"
   ]
  },
  {
   "cell_type": "code",
   "execution_count": 21,
   "id": "6e8ff749-d8c7-4184-9a9c-d7dcc29f92c0",
   "metadata": {},
   "outputs": [],
   "source": [
    "import math"
   ]
  },
  {
   "cell_type": "code",
   "execution_count": 22,
   "id": "3523e905-5ab3-438b-a500-eeba62fb68ff",
   "metadata": {},
   "outputs": [
    {
     "name": "stdout",
     "output_type": "stream",
     "text": [
      "86.02325267042627\n"
     ]
    }
   ],
   "source": [
    "print(math.sqrt(var))"
   ]
  },
  {
   "cell_type": "code",
   "execution_count": 14,
   "id": "0e22e38f-b30a-48d9-8e02-066de316379b",
   "metadata": {},
   "outputs": [
    {
     "data": {
      "text/html": [
       "<div>\n",
       "<style scoped>\n",
       "    .dataframe tbody tr th:only-of-type {\n",
       "        vertical-align: middle;\n",
       "    }\n",
       "\n",
       "    .dataframe tbody tr th {\n",
       "        vertical-align: top;\n",
       "    }\n",
       "\n",
       "    .dataframe thead th {\n",
       "        text-align: right;\n",
       "    }\n",
       "</style>\n",
       "<table border=\"1\" class=\"dataframe\">\n",
       "  <thead>\n",
       "    <tr style=\"text-align: right;\">\n",
       "      <th></th>\n",
       "      <th>Project</th>\n",
       "      <th>Technology</th>\n",
       "      <th>Capacity (MW)</th>\n",
       "      <th>Cost (Million $)</th>\n",
       "      <th>Location</th>\n",
       "      <th>Completion Year</th>\n",
       "    </tr>\n",
       "  </thead>\n",
       "  <tbody>\n",
       "    <tr>\n",
       "      <th>0</th>\n",
       "      <td>Solar Farm A</td>\n",
       "      <td>Solar</td>\n",
       "      <td>150</td>\n",
       "      <td>200</td>\n",
       "      <td>California</td>\n",
       "      <td>2023</td>\n",
       "    </tr>\n",
       "    <tr>\n",
       "      <th>1</th>\n",
       "      <td>Wind Turbine X</td>\n",
       "      <td>Wind</td>\n",
       "      <td>300</td>\n",
       "      <td>400</td>\n",
       "      <td>Texas</td>\n",
       "      <td>2024</td>\n",
       "    </tr>\n",
       "    <tr>\n",
       "      <th>2</th>\n",
       "      <td>Hydropower Y</td>\n",
       "      <td>Hydropower</td>\n",
       "      <td>200</td>\n",
       "      <td>350</td>\n",
       "      <td>Washington</td>\n",
       "      <td>2022</td>\n",
       "    </tr>\n",
       "  </tbody>\n",
       "</table>\n",
       "</div>"
      ],
      "text/plain": [
       "          Project  Technology  Capacity (MW)  Cost (Million $)    Location  \\\n",
       "0    Solar Farm A       Solar            150               200  California   \n",
       "1  Wind Turbine X        Wind            300               400       Texas   \n",
       "2    Hydropower Y  Hydropower            200               350  Washington   \n",
       "\n",
       "   Completion Year  \n",
       "0             2023  \n",
       "1             2024  \n",
       "2             2022  "
      ]
     },
     "execution_count": 14,
     "metadata": {},
     "output_type": "execute_result"
    }
   ],
   "source": [
    "high_capacity_projects=projects_df[projects_df[\"Capacity (MW)\"]>100]\n",
    "# print(high_capacity_projects)\n",
    "high_capacity_projects.head()\n",
    "# print(type(high_capacity_projects))"
   ]
  },
  {
   "cell_type": "code",
   "execution_count": 16,
   "id": "0ae6ca23-c2ad-49dd-be6d-a1b5c74b3e3e",
   "metadata": {},
   "outputs": [],
   "source": [
    "projects_df[\"Cost_per_MW\"]=projects_df[\"Cost (Million $)\"]/projects_df[\"Capacity (MW)\"]"
   ]
  },
  {
   "cell_type": "code",
   "execution_count": 17,
   "id": "4b4122de-a1e2-4c99-976e-d6fe01017d0e",
   "metadata": {},
   "outputs": [
    {
     "data": {
      "text/html": [
       "<div>\n",
       "<style scoped>\n",
       "    .dataframe tbody tr th:only-of-type {\n",
       "        vertical-align: middle;\n",
       "    }\n",
       "\n",
       "    .dataframe tbody tr th {\n",
       "        vertical-align: top;\n",
       "    }\n",
       "\n",
       "    .dataframe thead th {\n",
       "        text-align: right;\n",
       "    }\n",
       "</style>\n",
       "<table border=\"1\" class=\"dataframe\">\n",
       "  <thead>\n",
       "    <tr style=\"text-align: right;\">\n",
       "      <th></th>\n",
       "      <th>Project</th>\n",
       "      <th>Technology</th>\n",
       "      <th>Capacity (MW)</th>\n",
       "      <th>Cost (Million $)</th>\n",
       "      <th>Location</th>\n",
       "      <th>Completion Year</th>\n",
       "      <th>Cost_per_MW</th>\n",
       "    </tr>\n",
       "  </thead>\n",
       "  <tbody>\n",
       "    <tr>\n",
       "      <th>0</th>\n",
       "      <td>Solar Farm A</td>\n",
       "      <td>Solar</td>\n",
       "      <td>150</td>\n",
       "      <td>200</td>\n",
       "      <td>California</td>\n",
       "      <td>2023</td>\n",
       "      <td>1.333333</td>\n",
       "    </tr>\n",
       "    <tr>\n",
       "      <th>1</th>\n",
       "      <td>Wind Turbine X</td>\n",
       "      <td>Wind</td>\n",
       "      <td>300</td>\n",
       "      <td>400</td>\n",
       "      <td>Texas</td>\n",
       "      <td>2024</td>\n",
       "      <td>1.333333</td>\n",
       "    </tr>\n",
       "    <tr>\n",
       "      <th>2</th>\n",
       "      <td>Hydropower Y</td>\n",
       "      <td>Hydropower</td>\n",
       "      <td>200</td>\n",
       "      <td>350</td>\n",
       "      <td>Washington</td>\n",
       "      <td>2022</td>\n",
       "      <td>1.750000</td>\n",
       "    </tr>\n",
       "    <tr>\n",
       "      <th>3</th>\n",
       "      <td>Solar Roof Z</td>\n",
       "      <td>Solar</td>\n",
       "      <td>50</td>\n",
       "      <td>100</td>\n",
       "      <td>Nevada</td>\n",
       "      <td>2025</td>\n",
       "      <td>2.000000</td>\n",
       "    </tr>\n",
       "    <tr>\n",
       "      <th>4</th>\n",
       "      <td>Geothermal Plant P</td>\n",
       "      <td>Geothermal</td>\n",
       "      <td>100</td>\n",
       "      <td>250</td>\n",
       "      <td>Idaho</td>\n",
       "      <td>2023</td>\n",
       "      <td>2.500000</td>\n",
       "    </tr>\n",
       "  </tbody>\n",
       "</table>\n",
       "</div>"
      ],
      "text/plain": [
       "              Project  Technology  Capacity (MW)  Cost (Million $)  \\\n",
       "0        Solar Farm A       Solar            150               200   \n",
       "1      Wind Turbine X        Wind            300               400   \n",
       "2        Hydropower Y  Hydropower            200               350   \n",
       "3        Solar Roof Z       Solar             50               100   \n",
       "4  Geothermal Plant P  Geothermal            100               250   \n",
       "\n",
       "     Location  Completion Year  Cost_per_MW  \n",
       "0  California             2023     1.333333  \n",
       "1       Texas             2024     1.333333  \n",
       "2  Washington             2022     1.750000  \n",
       "3      Nevada             2025     2.000000  \n",
       "4       Idaho             2023     2.500000  "
      ]
     },
     "execution_count": 17,
     "metadata": {},
     "output_type": "execute_result"
    }
   ],
   "source": [
    "projects_df.head()"
   ]
  },
  {
   "cell_type": "code",
   "execution_count": 18,
   "id": "eab0d059-144a-45d5-8b5f-df8f1f31aeaf",
   "metadata": {},
   "outputs": [
    {
     "name": "stdout",
     "output_type": "stream",
     "text": [
      "total capacity 800\n",
      "total cost 1300\n"
     ]
    }
   ],
   "source": [
    "# Aggregation \n",
    "total_capacity=projects_df[\"Capacity (MW)\"].sum()\n",
    "total_cost=projects_df[\"Cost (Million $)\"].sum()\n",
    "print(f\"total capacity {total_capacity}\")\n",
    "print(f\"total cost {total_cost}\")"
   ]
  },
  {
   "cell_type": "code",
   "execution_count": 19,
   "id": "88a4263b-6bc0-43bd-b5df-2c4a58fa9102",
   "metadata": {},
   "outputs": [
    {
     "name": "stdout",
     "output_type": "stream",
     "text": [
      "Total capacity by Technology : \n",
      "Technology\n",
      "Geothermal    100\n",
      "Hydropower    200\n",
      "Solar         200\n",
      "Wind          300\n",
      "Name: Capacity (MW), dtype: int64\n"
     ]
    }
   ],
   "source": [
    "grouped_data=projects_df.groupby(\"Technology\")[\"Capacity (MW)\"].sum()\n",
    "print(\"Total capacity by Technology : \")\n",
    "print(grouped_data)"
   ]
  },
  {
   "cell_type": "code",
   "execution_count": 23,
   "id": "5e32033e-553a-4028-b7ed-31230cf57bd0",
   "metadata": {},
   "outputs": [
    {
     "name": "stdout",
     "output_type": "stream",
     "text": [
      "Total cost by Technology : \n",
      "Technology\n",
      "Geothermal    250\n",
      "Hydropower    350\n",
      "Solar         300\n",
      "Wind          400\n",
      "Name: Cost (Million $), dtype: int64\n"
     ]
    }
   ],
   "source": [
    "grouped_data_cost=projects_df.groupby(\"Technology\")[\"Cost (Million $)\"].sum()\n",
    "print(\"Total cost by Technology : \")\n",
    "print(grouped_data_cost)"
   ]
  },
  {
   "cell_type": "code",
   "execution_count": 24,
   "id": "f3b14aa9-0bc1-49bf-8511-089c0515de9b",
   "metadata": {},
   "outputs": [
    {
     "name": "stdout",
     "output_type": "stream",
     "text": [
      "[1 2 3]\n"
     ]
    }
   ],
   "source": [
    "import numpy as np \n",
    "array=np.array([1,2,3])\n",
    "print(array)"
   ]
  },
  {
   "cell_type": "code",
   "execution_count": 25,
   "id": "ed54f7c5-3fa1-4257-90c5-fdcd63548559",
   "metadata": {},
   "outputs": [
    {
     "name": "stdout",
     "output_type": "stream",
     "text": [
      "[[[1 2 3]\n",
      "  [3 4 3]]\n",
      "\n",
      " [[1 2 3]\n",
      "  [3 4 3]]]\n"
     ]
    }
   ],
   "source": [
    "_2darray=np.array([\n",
    "    \n",
    "        [[1,2,3],[3,4,3]],\n",
    "        [[1,2,3],[3,4,3]]\n",
    "    ])\n",
    "print(_2darray)"
   ]
  },
  {
   "cell_type": "code",
   "execution_count": 26,
   "id": "3cf9ba8c-573e-43f9-8fa3-e4611e20c3f2",
   "metadata": {},
   "outputs": [
    {
     "name": "stdout",
     "output_type": "stream",
     "text": [
      "(2, 2, 3)\n",
      "12\n",
      "int32\n",
      "4\n",
      "3\n"
     ]
    }
   ],
   "source": [
    "print(_2darray.shape)\n",
    "print(_2darray.size)\n",
    "print(_2darray.dtype)\n",
    "print(_2darray.itemsize)\n",
    "print(_2darray.ndim)"
   ]
  },
  {
   "cell_type": "code",
   "execution_count": 27,
   "id": "77dae9dc-d29a-4412-84f0-e71ce5b6fde6",
   "metadata": {},
   "outputs": [
    {
     "name": "stdout",
     "output_type": "stream",
     "text": [
      "[1. 1. 1.] [0. 0. 0.] [[[0.67862782 0.26780601 0.91586053]\n",
      "  [0.67280162 0.67181849 0.17248705]]\n",
      "\n",
      " [[0.36372041 0.54231862 0.93549659]\n",
      "  [0.31684417 0.34616177 0.01472044]]]\n"
     ]
    }
   ],
   "source": [
    "x=np.ones(3)\n",
    "y=np.zeros(3)\n",
    "z=np.random.random(_2darray.shape)\n",
    "print(x,y,z)\n"
   ]
  },
  {
   "cell_type": "code",
   "execution_count": 28,
   "id": "375f92c3-f231-4d32-9aca-565e1b5a8d6a",
   "metadata": {},
   "outputs": [
    {
     "name": "stdout",
     "output_type": "stream",
     "text": [
      "[[1 1 1]\n",
      " [1 1 1]\n",
      " [1 1 1]]\n"
     ]
    }
   ],
   "source": [
    "array1=np.full((3,3),1)\n",
    "print(array1)"
   ]
  },
  {
   "cell_type": "code",
   "execution_count": 29,
   "id": "850e9307-1920-4c88-8549-6fdf617da4e6",
   "metadata": {},
   "outputs": [
    {
     "name": "stdout",
     "output_type": "stream",
     "text": [
      "[[1. 0. 0.]\n",
      " [0. 1. 0.]\n",
      " [0. 0. 1.]]\n"
     ]
    }
   ],
   "source": [
    "array2=np.identity(3)\n",
    "print(array2)"
   ]
  },
  {
   "cell_type": "code",
   "execution_count": 30,
   "id": "37fb0ece-1170-4ea8-93f7-8e1504282332",
   "metadata": {},
   "outputs": [
    {
     "name": "stdout",
     "output_type": "stream",
     "text": [
      "[0 2 4 6 8]\n"
     ]
    }
   ],
   "source": [
    "arange_fun=np.arange(0,10,2)\n",
    "print(arange_fun)\n"
   ]
  },
  {
   "cell_type": "code",
   "execution_count": 31,
   "id": "404c0827-b266-4dcb-83a5-7f8e18999fd4",
   "metadata": {},
   "outputs": [
    {
     "name": "stdout",
     "output_type": "stream",
     "text": [
      "[ 5.   7.5 10. ]\n",
      "3\n"
     ]
    }
   ],
   "source": [
    "linspace_matrix=np.linspace(5,10,3)\n",
    "print(linspace_matrix)\n",
    "print(linspace_matrix.size)"
   ]
  },
  {
   "cell_type": "code",
   "execution_count": 43,
   "id": "a906ddf1-9434-4fb3-bbfb-3ebc411622b2",
   "metadata": {},
   "outputs": [
    {
     "name": "stdout",
     "output_type": "stream",
     "text": [
      "[ 1  2  3  4  5  6  7  9 10] sample array \n",
      "[ 1  2  3  4  5  6  7  9 10]\n",
      "[ 1  2  3  4  5  6  7  9 10]\n",
      "[ 1  3  5  7 10]\n",
      "[10  9  7  6  5  4  3  2  1]\n"
     ]
    }
   ],
   "source": [
    "data=np.array([1,2,3,4,5,6,7,9,10])\n",
    "print(data,\"sample array \")\n",
    "print(data[:])\n",
    "print(data[::1])\n",
    "print(data[::2])\n",
    "print(data[::-1])"
   ]
  },
  {
   "cell_type": "code",
   "execution_count": 44,
   "id": "47e23067-8ca6-40ff-86cc-c47ace8a727c",
   "metadata": {},
   "outputs": [
    {
     "name": "stdin",
     "output_type": "stream",
     "text": [
      " nitin\n"
     ]
    },
    {
     "name": "stdout",
     "output_type": "stream",
     "text": [
      "not \n"
     ]
    },
    {
     "name": "stderr",
     "output_type": "stream",
     "text": [
      "C:\\Users\\Tarun Singh\\AppData\\Local\\Temp\\ipykernel_14836\\3348873089.py:8: DeprecationWarning: The truth value of an empty array is ambiguous. Returning False, but in future this will result in an error. Use `array.size > 0` to check that an array is not empty.\n",
      "  if a==b: print(\"palindrome \")\n"
     ]
    }
   ],
   "source": [
    "array_string=np.array([])\n",
    "s=input()\n",
    "def check_pal(string):\n",
    "    for c in string:\n",
    "        np.append(array_string, c)\n",
    "    a=array_string\n",
    "    b=array_string[::-1]\n",
    "    if a==b: print(\"palindrome \") \n",
    "    else : print(\"not \")\n",
    "check_pal(s)\n"
   ]
  },
  {
   "cell_type": "code",
   "execution_count": 37,
   "id": "9484671d-5d13-4522-94d6-f2244be85de0",
   "metadata": {},
   "outputs": [
    {
     "name": "stdout",
     "output_type": "stream",
     "text": [
      "[[ 1  2  3]\n",
      " [ 4  5  6]\n",
      " [ 7  9 10]]\n"
     ]
    }
   ],
   "source": [
    "\n",
    "a_new_array=np.array([1,2,3,4,5,6,7,9,10])\n",
    "# res_array=a_new_array.reshape(2,3)\n",
    "res1_array=a_new_array.reshape(3,3)\n",
    "# print(res_array)\n",
    "print(res1_array)"
   ]
  },
  {
   "cell_type": "code",
   "execution_count": 38,
   "id": "752d606a-a0d1-432b-b5e0-00446ff16bbd",
   "metadata": {},
   "outputs": [
    {
     "name": "stdout",
     "output_type": "stream",
     "text": [
      "[[ 1  4  7]\n",
      " [ 2  5  9]\n",
      " [ 3  6 10]]\n"
     ]
    }
   ],
   "source": [
    "print(res1_array.T)"
   ]
  },
  {
   "cell_type": "code",
   "execution_count": 39,
   "id": "d16997a0-68c1-479f-92f6-b00a48fe4ae3",
   "metadata": {},
   "outputs": [
    {
     "name": "stdout",
     "output_type": "stream",
     "text": [
      "[ 1  2  3  4  5  6  7  9 10]\n",
      "[ 1  4  7  2  5  9  3  6 10]\n"
     ]
    }
   ],
   "source": [
    "print(res1_array.flatten())\n",
    "print(res1_array.flatten('F'))"
   ]
  },
  {
   "cell_type": "code",
   "execution_count": 40,
   "id": "f2c4ef78-6b7d-4c64-8476-44d63507c209",
   "metadata": {},
   "outputs": [
    {
     "name": "stdout",
     "output_type": "stream",
     "text": [
      "5.222222222222222 5.0\n"
     ]
    }
   ],
   "source": [
    "# data manipulation \n",
    "\n",
    "data=np.array([1,2,3,4,5,6,7,9,10])\n",
    "\n",
    "mean=np.mean(data)\n",
    "median=np.median(data)\n",
    "print(mean,median)"
   ]
  },
  {
   "cell_type": "code",
   "execution_count": 41,
   "id": "8eb8a6da-32b2-4240-a53e-bc772db85e69",
   "metadata": {},
   "outputs": [
    {
     "name": "stdout",
     "output_type": "stream",
     "text": [
      "[1200 3400 2900 1800 2500]\n",
      "Energy consumption in MWH is \n",
      "\n"
     ]
    }
   ],
   "source": [
    "energy_cons=np.array([1200,3400,2900,1800,2500])\n",
    "print(energy_cons)\n",
    "print(\"Energy consumption in MWH is \")\n",
    "print()"
   ]
  },
  {
   "cell_type": "code",
   "execution_count": 42,
   "id": "4191e11b-7587-4cc1-88fc-96656d364c29",
   "metadata": {},
   "outputs": [
    {
     "name": "stdout",
     "output_type": "stream",
     "text": [
      "Mean energy consumption (kWh): 2360.0\n",
      "Median energy consumption (kWh): 2500.0\n",
      "Standard deviation of energy consumption (kWh): 781.2809993849844\n",
      "Variance of energy consumption (kWh): 610400.0\n"
     ]
    }
   ],
   "source": [
    "# Create an array for energy consumption (in kWh)\n",
    "energy_consumption = np.array([1200, 3400, 2900, 1800, 2500])\n",
    "\n",
    "# Calculate the mean\n",
    "mean_consumption = np.mean(energy_consumption)\n",
    "print(\"Mean energy consumption (kWh):\", mean_consumption)\n",
    "\n",
    "# Calculate the median\n",
    "median_consumption = np.median(energy_consumption)\n",
    "print(\"Median energy consumption (kWh):\", median_consumption)\n",
    "\n",
    "# Calculate the standard deviation\n",
    "std_dev_consumption = np.std(energy_consumption)\n",
    "print(\"Standard deviation of energy consumption (kWh):\", std_dev_consumption)\n",
    "\n",
    "# Calculate the variance\n",
    "variance_consumption = np.var(energy_consumption)\n",
    "print(\"Variance of energy consumption (kWh):\", variance_consumption)"
   ]
  },
  {
   "cell_type": "code",
   "execution_count": null,
   "id": "34872106-bd40-4bbc-bb79-41fc30929e46",
   "metadata": {},
   "outputs": [],
   "source": []
  },
  {
   "cell_type": "code",
   "execution_count": null,
   "id": "558895f4-f2d4-4fb3-9ea7-abec17432b74",
   "metadata": {},
   "outputs": [],
   "source": []
  }
 ],
 "metadata": {
  "kernelspec": {
   "display_name": "Python 3 (ipykernel)",
   "language": "python",
   "name": "python3"
  },
  "language_info": {
   "codemirror_mode": {
    "name": "ipython",
    "version": 3
   },
   "file_extension": ".py",
   "mimetype": "text/x-python",
   "name": "python",
   "nbconvert_exporter": "python",
   "pygments_lexer": "ipython3",
   "version": "3.12.4"
  }
 },
 "nbformat": 4,
 "nbformat_minor": 5
}
